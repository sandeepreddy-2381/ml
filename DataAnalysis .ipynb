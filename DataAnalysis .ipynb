{
 "cells": [
  {
   "cell_type": "code",
   "execution_count": 1,
   "id": "095b4310",
   "metadata": {},
   "outputs": [
    {
     "name": "stdout",
     "output_type": "stream",
     "text": [
      "CSV file created and saved as 'students_info.csv'\n"
     ]
    }
   ],
   "source": [
    "import pandas as pd\n",
    "\n",
    "students_data = pd.DataFrame({\n",
    "    'Name': ['Nitin', 'Akhila', 'Vinay', 'Nanda', 'Reethu', 'Sanjay', 'Manu', 'Jahnavi', 'Ishwarya', 'Akhil'],\n",
    "    'Age': [20, 21, 22, 20, 21, 23, 22, 20, 21, 23],\n",
    "    'Gender': ['M', 'F', 'M', 'M', 'F', 'M', 'F', 'F', 'F', 'M'],\n",
    "    'Grade': [88, 92, 85, 90, 95, 87, 91, 89, 93, 84]\n",
    "})\n",
    "\n",
    "file_path = 'students_info.csv'\n",
    "\n",
    "students_data.to_csv(file_path, index=False)\n",
    "\n",
    "print(\"CSV file created and saved as 'students_info.csv'\")\n"
   ]
  },
  {
   "cell_type": "code",
   "execution_count": 2,
   "id": "6f23b851",
   "metadata": {},
   "outputs": [
    {
     "name": "stdout",
     "output_type": "stream",
     "text": [
      "\n",
      "Students Data:\n",
      "        Name  Age Gender  Grade\n",
      "0     Nitin   20      M     88\n",
      "1    Akhila   21      F     92\n",
      "2     Vinay   22      M     85\n",
      "3     Nanda   20      M     90\n",
      "4    Reethu   21      F     95\n",
      "5    Sanjay   23      M     87\n",
      "6      Manu   22      F     91\n",
      "7   Jahnavi   20      F     89\n",
      "8  Ishwarya   21      F     93\n",
      "9     Akhil   23      M     84\n",
      "\n",
      "Basic Statistics:\n",
      "              Age     Grade\n",
      "count  10.000000  10.00000\n",
      "mean   21.300000  89.40000\n",
      "std     1.159502   3.50238\n",
      "min    20.000000  84.00000\n",
      "25%    20.250000  87.25000\n",
      "50%    21.000000  89.50000\n",
      "75%    22.000000  91.75000\n",
      "max    23.000000  95.00000\n",
      "\n",
      "Average Age: 21.3\n",
      "\n",
      "Gender Count:\n",
      " M    5\n",
      "F    5\n",
      "Name: Gender, dtype: int64\n",
      "\n",
      "Average Grade by Gender:\n",
      " Gender\n",
      "F    92.0\n",
      "M    86.8\n",
      "Name: Grade, dtype: float64\n",
      "\n",
      "Maximum Grade: 95\n",
      "\n",
      "Student with the Highest Grade:\n",
      " Name      Reethu\n",
      "Age           21\n",
      "Gender         F\n",
      "Grade         95\n",
      "Name: 4, dtype: object\n",
      "\n",
      "Minimum Grade: 84\n",
      "\n",
      "Student with the Lowest Grade:\n",
      " Name      Akhil\n",
      "Age          23\n",
      "Gender        M\n",
      "Grade        84\n",
      "Name: 9, dtype: object\n"
     ]
    }
   ],
   "source": [
    "students_data = pd.read_csv(file_path)\n",
    "\n",
    "print(\"\\nStudents Data:\\n\", students_data)\n",
    "\n",
    "print(\"\\nBasic Statistics:\\n\", students_data.describe())\n",
    "\n",
    "average_age = students_data['Age'].mean()\n",
    "print(\"\\nAverage Age:\", average_age)\n",
    "\n",
    "gender_count = students_data['Gender'].value_counts()\n",
    "print(\"\\nGender Count:\\n\", gender_count)\n",
    "\n",
    "average_grade_by_gender = students_data.groupby('Gender')['Grade'].mean()\n",
    "print(\"\\nAverage Grade by Gender:\\n\", average_grade_by_gender)\n",
    "\n",
    "max_grade = students_data['Grade'].max()\n",
    "print(\"\\nMaximum Grade:\", max_grade)\n",
    "\n",
    "top_student = students_data.loc[students_data['Grade'].idxmax()]\n",
    "print(\"\\nStudent with the Highest Grade:\\n\", top_student)\n",
    "\n",
    "min_grade = students_data['Grade'].min()\n",
    "print(\"\\nMinimum Grade:\", min_grade)\n",
    "\n",
    "lowest_student = students_data.loc[students_data['Grade'].idxmin()]\n",
    "print(\"\\nStudent with the Lowest Grade:\\n\", lowest_student)\n"
   ]
  },
  {
   "cell_type": "code",
   "execution_count": null,
   "id": "51d48e80",
   "metadata": {},
   "outputs": [],
   "source": []
  }
 ],
 "metadata": {
  "kernelspec": {
   "display_name": "Python 3 (ipykernel)",
   "language": "python",
   "name": "python3"
  },
  "language_info": {
   "codemirror_mode": {
    "name": "ipython",
    "version": 3
   },
   "file_extension": ".py",
   "mimetype": "text/x-python",
   "name": "python",
   "nbconvert_exporter": "python",
   "pygments_lexer": "ipython3",
   "version": "3.9.13"
  }
 },
 "nbformat": 4,
 "nbformat_minor": 5
}
