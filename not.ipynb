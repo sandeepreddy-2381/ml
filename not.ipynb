{
 "cells": [
  {
   "cell_type": "code",
   "execution_count": 1,
   "id": "877d150d",
   "metadata": {},
   "outputs": [
    {
     "name": "stdout",
     "output_type": "stream",
     "text": [
      "NOT(0) = 1\n",
      "NOT(1) = 0\n"
     ]
    }
   ],
   "source": [
    "import numpy as np\n",
    "\n",
    "def unitStep(v):\n",
    "    if v >= 0:\n",
    "        return 1\n",
    "    else:\n",
    "        return 0\n",
    "\n",
    "def perceptronModel(x, w, b):\n",
    "    v = np.dot(w, x) + b\n",
    "    y = unitStep(v)\n",
    "    return y\n",
    "\n",
    "def NOT_logicFunction(x):\n",
    "    w = np.array([-1])  # Weight for NOT gate\n",
    "    b = 0.5  # Bias for NOT gate\n",
    "    return perceptronModel(x, w, b)\n",
    "\n",
    "# Test cases\n",
    "test1 = np.array([0])\n",
    "test2 = np.array([1])\n",
    "\n",
    "# Evaluate NOT gate\n",
    "print(\"NOT({}) = {}\".format(0, NOT_logicFunction(test1)))\n",
    "print(\"NOT({}) = {}\".format(1, NOT_logicFunction(test2)))\n"
   ]
  },
  {
   "cell_type": "code",
   "execution_count": null,
   "id": "f883d65d",
   "metadata": {},
   "outputs": [],
   "source": []
  }
 ],
 "metadata": {
  "kernelspec": {
   "display_name": "Python 3 (ipykernel)",
   "language": "python",
   "name": "python3"
  },
  "language_info": {
   "codemirror_mode": {
    "name": "ipython",
    "version": 3
   },
   "file_extension": ".py",
   "mimetype": "text/x-python",
   "name": "python",
   "nbconvert_exporter": "python",
   "pygments_lexer": "ipython3",
   "version": "3.9.13"
  }
 },
 "nbformat": 4,
 "nbformat_minor": 5
}
