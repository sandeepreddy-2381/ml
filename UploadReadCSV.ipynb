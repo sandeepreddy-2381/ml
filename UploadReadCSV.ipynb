{
 "cells": [
  {
   "cell_type": "code",
   "execution_count": 1,
   "id": "1f59ab75",
   "metadata": {},
   "outputs": [
    {
     "name": "stdout",
     "output_type": "stream",
     "text": [
      "CSV file created and saved as 'created_sample.csv'\n"
     ]
    }
   ],
   "source": [
    "import numpy as np\n",
    "\n",
    "data = np.array([[1, 2, 3], [4, 5, 6], [7, 8, 9]])\n",
    "\n",
    "file_path = 'created_sample.csv'\n",
    "\n",
    "np.savetxt(file_path, data, delimiter=',')\n",
    "\n",
    "print(\"CSV file created and saved as 'created_sample.csv'\")\n"
   ]
  },
  {
   "cell_type": "code",
   "execution_count": 2,
   "id": "48b1a2f3",
   "metadata": {},
   "outputs": [
    {
     "name": "stdout",
     "output_type": "stream",
     "text": [
      "\n",
      "Data read from CSV file:\n",
      " [[1. 2. 3.]\n",
      " [4. 5. 6.]\n",
      " [7. 8. 9.]]\n",
      "\n",
      "Data after adding 10:\n",
      " [[11. 12. 13.]\n",
      " [14. 15. 16.]\n",
      " [17. 18. 19.]]\n",
      "\n",
      "Data after multiplying by 2:\n",
      " [[ 2.  4.  6.]\n",
      " [ 8. 10. 12.]\n",
      " [14. 16. 18.]]\n",
      "\n",
      "Element-wise addition:\n",
      " [[ 2.  4.  6.]\n",
      " [ 8. 10. 12.]\n",
      " [14. 16. 18.]]\n"
     ]
    }
   ],
   "source": [
    "loaded_data = np.loadtxt(file_path, delimiter=',')\n",
    "print(\"\\nData read from CSV file:\\n\", loaded_data)\n",
    "\n",
    "scalar_addition = loaded_data + 10\n",
    "print(\"\\nData after adding 10:\\n\", scalar_addition)\n",
    "\n",
    "scalar_multiplication = loaded_data * 2\n",
    "print(\"\\nData after multiplying by 2:\\n\", scalar_multiplication)\n",
    "\n",
    "array_addition = np.add(loaded_data, loaded_data)\n",
    "print(\"\\nElement-wise addition:\\n\", array_addition)"
   ]
  },
  {
   "cell_type": "code",
   "execution_count": null,
   "id": "bbd5669c",
   "metadata": {},
   "outputs": [],
   "source": []
  }
 ],
 "metadata": {
  "kernelspec": {
   "display_name": "Python 3 (ipykernel)",
   "language": "python",
   "name": "python3"
  },
  "language_info": {
   "codemirror_mode": {
    "name": "ipython",
    "version": 3
   },
   "file_extension": ".py",
   "mimetype": "text/x-python",
   "name": "python",
   "nbconvert_exporter": "python",
   "pygments_lexer": "ipython3",
   "version": "3.9.13"
  }
 },
 "nbformat": 4,
 "nbformat_minor": 5
}
