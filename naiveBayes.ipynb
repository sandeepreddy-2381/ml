{
 "cells": [
  {
   "cell_type": "code",
   "execution_count": 2,
   "id": "903d992b",
   "metadata": {},
   "outputs": [
    {
     "name": "stderr",
     "output_type": "stream",
     "text": [
      "C:\\ProgramData\\Anaconda3\\lib\\site-packages\\sklearn\\metrics\\_classification.py:1318: UndefinedMetricWarning: Precision is ill-defined and being set to 0.0 due to no predicted samples. Use `zero_division` parameter to control this behavior.\n",
      "  _warn_prf(average, modifier, msg_start, len(result))\n"
     ]
    },
    {
     "name": "stdout",
     "output_type": "stream",
     "text": [
      "The Total instances in the Dataset:  6\n",
      "******** Accuracy Metrics *********\n",
      "Accuracy :  0.0\n",
      "Recall :  0.0\n",
      "Precision :  0.0\n",
      "Confusion Matrix : \n",
      " [[0 0]\n",
      " [2 0]]\n",
      "----------\n",
      "Enter any statement to predict :send me your password\n",
      "It is a normal document\n"
     ]
    }
   ],
   "source": [
    "import pandas as pd\n",
    "from sklearn.model_selection import train_test_split\n",
    "from sklearn.feature_extraction.text import CountVectorizer\n",
    "from sklearn.naive_bayes import MultinomialNB\n",
    "from sklearn.metrics import accuracy_score, confusion_matrix, precision_score, recall_score\n",
    "msglbl_data = pd.read_csv('spamdata.csv', names=['Message', 'Label'])\n",
    "print(\"The Total instances in the Dataset: \", msglbl_data.shape[0])\n",
    "msglbl_data['labelnum'] = msglbl_data.Label.map({'spam': 1, 'ham': 0})\n",
    "# place the data in X and Y Vectors\n",
    "X = msglbl_data[\"Message\"]\n",
    "Y = msglbl_data.labelnum\n",
    "# to split the data into train se and test set\n",
    "Xtrain, Xtest, Ytrain, Ytest = train_test_split(X, Y)\n",
    "\n",
    "\n",
    "count_vect = CountVectorizer()\n",
    "Xtrain_dims = count_vect.fit_transform(Xtrain)\n",
    "Xtest_dims = count_vect.transform(Xtest)\n",
    "df = pd.DataFrame(Xtrain_dims.toarray(),columns=count_vect.get_feature_names_out())\n",
    "clf = MultinomialNB()\n",
    "# to fit the train data into model\n",
    "clf.fit(Xtrain_dims, Ytrain)\n",
    "prediction = clf.predict(Xtest_dims)\n",
    "print('******** Accuracy Metrics *********')\n",
    "print('Accuracy : ', accuracy_score(Ytest, prediction)) \n",
    "print('Recall : ', recall_score(Ytest, prediction)) \n",
    "print('Precision : ',precision_score(Ytest, prediction))\n",
    "print('Confusion Matrix : \\n', confusion_matrix(Ytest, prediction))\n",
    "print(10*\"-\")\n",
    "test_stmt = [input(\"Enter any statement to predict :\")]\n",
    "test_dims = count_vect.transform(test_stmt)\n",
    "pred = clf.predict(test_dims)\n",
    "for stmt,lbl in zip(test_stmt,pred):\n",
    "\tif lbl == 1:\n",
    "\t\tprint(\"Is is a Spam document\")\n",
    "\telse:\n",
    "\t\tprint(\"It is a normal document\")"
   ]
  },
  {
   "cell_type": "code",
   "execution_count": null,
   "id": "ab63df57",
   "metadata": {},
   "outputs": [],
   "source": []
  }
 ],
 "metadata": {
  "kernelspec": {
   "display_name": "Python 3 (ipykernel)",
   "language": "python",
   "name": "python3"
  },
  "language_info": {
   "codemirror_mode": {
    "name": "ipython",
    "version": 3
   },
   "file_extension": ".py",
   "mimetype": "text/x-python",
   "name": "python",
   "nbconvert_exporter": "python",
   "pygments_lexer": "ipython3",
   "version": "3.9.13"
  }
 },
 "nbformat": 4,
 "nbformat_minor": 5
}
