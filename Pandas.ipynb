{
 "cells": [
  {
   "cell_type": "code",
   "execution_count": 2,
   "id": "0ed4b477",
   "metadata": {},
   "outputs": [
    {
     "name": "stdout",
     "output_type": "stream",
     "text": [
      "Pandas Series:\n",
      " a    1\n",
      "b    2\n",
      "c    3\n",
      "d    4\n",
      "e    5\n",
      "dtype: int64\n",
      "\n",
      "Pandas DataFrame:\n",
      "    A  B   C\n",
      "0  1  5   9\n",
      "1  2  6  10\n",
      "2  3  7  11\n",
      "3  4  8  12\n"
     ]
    }
   ],
   "source": [
    "import pandas as pd\n",
    "\n",
    "data_series = pd.Series([1, 2, 3, 4, 5], index=['a', 'b', 'c', 'd', 'e'])\n",
    "print(\"Pandas Series:\\n\", data_series)\n",
    "\n",
    "data_frame = pd.DataFrame({\n",
    "    'A': [1, 2, 3, 4],\n",
    "    'B': [5, 6, 7, 8],\n",
    "    'C': [9, 10, 11, 12]\n",
    "})\n",
    "print(\"\\nPandas DataFrame:\\n\", data_frame)\n"
   ]
  },
  {
   "cell_type": "code",
   "execution_count": 3,
   "id": "e7c0a3e3",
   "metadata": {},
   "outputs": [
    {
     "name": "stdout",
     "output_type": "stream",
     "text": [
      "\n",
      "Element at index 'b': 2\n",
      "\n",
      "Series after adding 10:\n",
      " a    11\n",
      "b    12\n",
      "c    13\n",
      "d    14\n",
      "e    15\n",
      "dtype: int64\n",
      "\n",
      "Series after multiplying by 2:\n",
      " a     2\n",
      "b     4\n",
      "c     6\n",
      "d     8\n",
      "e    10\n",
      "dtype: int64\n",
      "\n",
      "Series after applying a lambda function (x^2):\n",
      " a     1\n",
      "b     4\n",
      "c     9\n",
      "d    16\n",
      "e    25\n",
      "dtype: int64\n"
     ]
    }
   ],
   "source": [
    "print(\"\\nElement at index 'b':\", data_series['b'])\n",
    "\n",
    "print(\"\\nSeries after adding 10:\\n\", data_series + 10)\n",
    "print(\"\\nSeries after multiplying by 2:\\n\", data_series * 2)\n",
    "\n",
    "print(\"\\nSeries after applying a lambda function (x^2):\\n\", data_series.apply(lambda x: x**2))"
   ]
  },
  {
   "cell_type": "code",
   "execution_count": 4,
   "id": "e0797827",
   "metadata": {},
   "outputs": [
    {
     "name": "stdout",
     "output_type": "stream",
     "text": [
      "\n",
      "Column 'A':\n",
      " 0    1\n",
      "1    2\n",
      "2    3\n",
      "3    4\n",
      "Name: A, dtype: int64\n",
      "\n",
      "Row with index 1:\n",
      " A     2\n",
      "B     6\n",
      "C    10\n",
      "Name: 1, dtype: int64\n",
      "\n",
      "Row at position 2:\n",
      " A     3\n",
      "B     7\n",
      "C    11\n",
      "Name: 2, dtype: int64\n",
      "\n",
      "DataFrame after adding a new column 'D':\n",
      "    A  B   C   D\n",
      "0  1  5   9   6\n",
      "1  2  6  10   8\n",
      "2  3  7  11  10\n",
      "3  4  8  12  12\n",
      "\n",
      "DataFrame after dropping column 'D':\n",
      "    A  B   C\n",
      "0  1  5   9\n",
      "1  2  6  10\n",
      "2  3  7  11\n",
      "3  4  8  12\n"
     ]
    }
   ],
   "source": [
    "print(\"\\nColumn 'A':\\n\", data_frame['A'])\n",
    "\n",
    "print(\"\\nRow with index 1:\\n\", data_frame.loc[1])\n",
    "\n",
    "print(\"\\nRow at position 2:\\n\", data_frame.iloc[2])\n",
    "\n",
    "data_frame['D'] = data_frame['A'] + data_frame['B']\n",
    "print(\"\\nDataFrame after adding a new column 'D':\\n\", data_frame)\n",
    "\n",
    "data_frame_dropped = data_frame.drop('D', axis=1)\n",
    "print(\"\\nDataFrame after dropping column 'D':\\n\", data_frame_dropped)"
   ]
  },
  {
   "cell_type": "code",
   "execution_count": null,
   "id": "b914781e",
   "metadata": {},
   "outputs": [],
   "source": []
  }
 ],
 "metadata": {
  "kernelspec": {
   "display_name": "Python 3 (ipykernel)",
   "language": "python",
   "name": "python3"
  },
  "language_info": {
   "codemirror_mode": {
    "name": "ipython",
    "version": 3
   },
   "file_extension": ".py",
   "mimetype": "text/x-python",
   "name": "python",
   "nbconvert_exporter": "python",
   "pygments_lexer": "ipython3",
   "version": "3.9.13"
  }
 },
 "nbformat": 4,
 "nbformat_minor": 5
}
