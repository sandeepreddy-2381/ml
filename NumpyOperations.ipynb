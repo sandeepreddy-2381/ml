{
 "cells": [
  {
   "cell_type": "code",
   "execution_count": 2,
   "id": "0d480f82",
   "metadata": {},
   "outputs": [],
   "source": [
    "import numpy as np"
   ]
  },
  {
   "cell_type": "code",
   "execution_count": 3,
   "id": "11f9d18b",
   "metadata": {},
   "outputs": [],
   "source": [
    "array2D_1 = np.array([[1, 2, 3], [4, 5, 6]])\n",
    "array2D_2 = np.array([[10, 20, 30], [40, 50, 60]])"
   ]
  },
  {
   "cell_type": "code",
   "execution_count": 4,
   "id": "da250282",
   "metadata": {},
   "outputs": [
    {
     "name": "stdout",
     "output_type": "stream",
     "text": [
      "[[11 22 33]\n",
      " [44 55 66]]\n"
     ]
    }
   ],
   "source": [
    "addition_2D = np.add(array2D_1, array2D_2)\n",
    "print(addition_2D)"
   ]
  },
  {
   "cell_type": "code",
   "execution_count": 5,
   "id": "5bf85c21",
   "metadata": {},
   "outputs": [
    {
     "name": "stdout",
     "output_type": "stream",
     "text": [
      "[[ -9 -18 -27]\n",
      " [-36 -45 -54]]\n"
     ]
    }
   ],
   "source": [
    "subtraction_2D = np.subtract(array2D_1, array2D_2)\n",
    "print(subtraction_2D)"
   ]
  },
  {
   "cell_type": "code",
   "execution_count": 6,
   "id": "929270e4",
   "metadata": {},
   "outputs": [
    {
     "name": "stdout",
     "output_type": "stream",
     "text": [
      "[[ 10  40  90]\n",
      " [160 250 360]]\n"
     ]
    }
   ],
   "source": [
    "multiplication_2D = np.multiply(array2D_1, array2D_2)\n",
    "print(multiplication_2D)"
   ]
  },
  {
   "cell_type": "code",
   "execution_count": 11,
   "id": "be4eb2bf",
   "metadata": {},
   "outputs": [
    {
     "name": "stdout",
     "output_type": "stream",
     "text": [
      "[[ 1  4  9]\n",
      " [16 25 36]]\n"
     ]
    }
   ],
   "source": [
    "exponentiation_2D = np.power(array2D_1, 2)\n",
    "print(exponentiation_2D)\n"
   ]
  },
  {
   "cell_type": "code",
   "execution_count": 12,
   "id": "014c230b",
   "metadata": {},
   "outputs": [
    {
     "name": "stdout",
     "output_type": "stream",
     "text": [
      "[[0 0 0]\n",
      " [0 0 0]]\n"
     ]
    }
   ],
   "source": [
    "modulus_2D = np.mod(array2D_2, array2D_1)\n",
    "print(modulus_2D)"
   ]
  },
  {
   "cell_type": "code",
   "execution_count": 13,
   "id": "5d733e78",
   "metadata": {},
   "outputs": [
    {
     "name": "stdout",
     "output_type": "stream",
     "text": [
      "[[ 6  7  8]\n",
      " [ 9 10 11]]\n"
     ]
    }
   ],
   "source": [
    "scalar_addition_2D = array2D_1 + 5\n",
    "print(scalar_addition_2D)"
   ]
  },
  {
   "cell_type": "code",
   "execution_count": 14,
   "id": "51dadeaf",
   "metadata": {},
   "outputs": [
    {
     "name": "stdout",
     "output_type": "stream",
     "text": [
      "[[ 3  6  9]\n",
      " [12 15 18]]\n"
     ]
    }
   ],
   "source": [
    "scalar_multiplication_2D = array2D_1 * 3\n",
    "print(scalar_multiplication_2D)"
   ]
  },
  {
   "cell_type": "code",
   "execution_count": 15,
   "id": "9acaef00",
   "metadata": {},
   "outputs": [],
   "source": [
    "array3D_1 = np.array([[[1, 2], [3, 4]], [[5, 6], [7, 8]]])\n",
    "array3D_2 = np.array([[[10, 20], [30, 40]], [[50, 60], [70, 80]]])"
   ]
  },
  {
   "cell_type": "code",
   "execution_count": 16,
   "id": "3c6ef260",
   "metadata": {},
   "outputs": [
    {
     "name": "stdout",
     "output_type": "stream",
     "text": [
      "[[[11 22]\n",
      "  [33 44]]\n",
      "\n",
      " [[55 66]\n",
      "  [77 88]]]\n"
     ]
    }
   ],
   "source": [
    "addition_3D = np.add(array3D_1, array3D_2)\n",
    "print(addition_3D)\n"
   ]
  },
  {
   "cell_type": "code",
   "execution_count": 17,
   "id": "2e7490ca",
   "metadata": {},
   "outputs": [
    {
     "name": "stdout",
     "output_type": "stream",
     "text": [
      "[[[ -9 -18]\n",
      "  [-27 -36]]\n",
      "\n",
      " [[-45 -54]\n",
      "  [-63 -72]]]\n"
     ]
    }
   ],
   "source": [
    "subtraction_3D = np.subtract(array3D_1, array3D_2)\n",
    "print(subtraction_3D)"
   ]
  },
  {
   "cell_type": "code",
   "execution_count": 18,
   "id": "7180f41b",
   "metadata": {},
   "outputs": [
    {
     "name": "stdout",
     "output_type": "stream",
     "text": [
      "[[[ 10  40]\n",
      "  [ 90 160]]\n",
      "\n",
      " [[250 360]\n",
      "  [490 640]]]\n"
     ]
    }
   ],
   "source": [
    "multiplication_3D = np.multiply(array3D_1, array3D_2)\n",
    "print(multiplication_3D)"
   ]
  },
  {
   "cell_type": "code",
   "execution_count": 19,
   "id": "37dc6e86",
   "metadata": {},
   "outputs": [
    {
     "name": "stdout",
     "output_type": "stream",
     "text": [
      "[[[0.1 0.1]\n",
      "  [0.1 0.1]]\n",
      "\n",
      " [[0.1 0.1]\n",
      "  [0.1 0.1]]]\n"
     ]
    }
   ],
   "source": [
    "division_3D = np.divide(array3D_1, array3D_2)\n",
    "print(division_3D)\n"
   ]
  },
  {
   "cell_type": "code",
   "execution_count": 20,
   "id": "43814d18",
   "metadata": {},
   "outputs": [
    {
     "name": "stdout",
     "output_type": "stream",
     "text": [
      "[[[ 1  4]\n",
      "  [ 9 16]]\n",
      "\n",
      " [[25 36]\n",
      "  [49 64]]]\n"
     ]
    }
   ],
   "source": [
    "exponentiation_3D = np.power(array3D_1, 2)\n",
    "print(exponentiation_3D)"
   ]
  },
  {
   "cell_type": "code",
   "execution_count": 21,
   "id": "f48f84de",
   "metadata": {},
   "outputs": [
    {
     "name": "stdout",
     "output_type": "stream",
     "text": [
      "[[[0 0]\n",
      "  [0 0]]\n",
      "\n",
      " [[0 0]\n",
      "  [0 0]]]\n"
     ]
    }
   ],
   "source": [
    "modulus_3D = np.mod(array3D_2, array3D_1)\n",
    "print(modulus_3D)"
   ]
  },
  {
   "cell_type": "code",
   "execution_count": 22,
   "id": "e2238437",
   "metadata": {},
   "outputs": [
    {
     "name": "stdout",
     "output_type": "stream",
     "text": [
      "[[[ 6  7]\n",
      "  [ 8  9]]\n",
      "\n",
      " [[10 11]\n",
      "  [12 13]]]\n"
     ]
    }
   ],
   "source": [
    "scalar_addition_3D = array3D_1 + 5\n",
    "print(scalar_addition_3D)"
   ]
  },
  {
   "cell_type": "code",
   "execution_count": 23,
   "id": "affb9230",
   "metadata": {},
   "outputs": [
    {
     "name": "stdout",
     "output_type": "stream",
     "text": [
      "[[[ 3  6]\n",
      "  [ 9 12]]\n",
      "\n",
      " [[15 18]\n",
      "  [21 24]]]\n"
     ]
    }
   ],
   "source": [
    "scalar_multiplication_3D = array3D_1 * 3\n",
    "print(scalar_multiplication_3D)"
   ]
  }
 ],
 "metadata": {
  "kernelspec": {
   "display_name": "Python 3 (ipykernel)",
   "language": "python",
   "name": "python3"
  },
  "language_info": {
   "codemirror_mode": {
    "name": "ipython",
    "version": 3
   },
   "file_extension": ".py",
   "mimetype": "text/x-python",
   "name": "python",
   "nbconvert_exporter": "python",
   "pygments_lexer": "ipython3",
   "version": "3.9.13"
  }
 },
 "nbformat": 4,
 "nbformat_minor": 5
}
